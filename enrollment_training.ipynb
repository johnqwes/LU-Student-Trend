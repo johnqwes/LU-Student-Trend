{
 "cells": [
  {
   "cell_type": "code",
   "execution_count": 1,
   "id": "e3ced5f5-c004-4928-9dcf-676410d803ed",
   "metadata": {
    "tags": []
   },
   "outputs": [],
   "source": [
    "from sklearn.model_selection import train_test_split\n",
    "from sklearn.ensemble import RandomForestRegressor\n",
    "from sklearn.linear_model import LinearRegression\n",
    "from sklearn.tree import DecisionTreeRegressor\n",
    "from sklearn.ensemble import StackingRegressor\n",
    "from sklearn.metrics import mean_squared_error\n",
    "from sklearn.neighbors import KNeighborsRegressor\n",
    "from sklearn.svm import SVR\n",
    "from xgboost import XGBRegressor\n",
    "import pandas as pd"
   ]
  },
  {
   "cell_type": "code",
   "execution_count": 2,
   "id": "c4b62a7e-1e64-4f18-b5b4-076ae5993a4b",
   "metadata": {
    "tags": []
   },
   "outputs": [],
   "source": [
    "data = pd.read_csv('data.csv')"
   ]
  },
  {
   "cell_type": "code",
   "execution_count": 3,
   "id": "5dbab2bf-fa53-4770-8b42-39abb025f3b0",
   "metadata": {
    "tags": []
   },
   "outputs": [],
   "source": [
    "data = data.dropna()"
   ]
  },
  {
   "cell_type": "code",
   "execution_count": 4,
   "id": "284b3448-5b6b-4b97-ad32-5842ee9e2364",
   "metadata": {
    "tags": []
   },
   "outputs": [],
   "source": [
    "forecasting_regressor = LinearRegression()"
   ]
  },
  {
   "cell_type": "code",
   "execution_count": 5,
   "id": "731c9e5f-10f0-49f1-90ef-0d628e5d2da7",
   "metadata": {
    "tags": []
   },
   "outputs": [],
   "source": [
    "# Split the data into features and target variable\n",
    "X = data.drop(columns=['Number of Enrollees', 'Program Name', 'Number of Dropout', 'Number of Graduates',])  # Features\n",
    "y = data['Number of Enrollees']  # Target variable"
   ]
  },
  {
   "cell_type": "code",
   "execution_count": 6,
   "id": "c3620b7b-48cb-4574-9867-56b99ccfe131",
   "metadata": {
    "tags": []
   },
   "outputs": [],
   "source": [
    "# Split the data into training and testing sets\n",
    "X_train, X_test, y_train, y_test = train_test_split(X, y, test_size=0.2, random_state=42)"
   ]
  },
  {
   "cell_type": "markdown",
   "id": "179c35ea-050f-4439-a554-3f308b925ae8",
   "metadata": {
    "tags": []
   },
   "source": [
    "# Initialize base models\n",
    "base_models = [\n",
    "    ('linear', LinearRegression()),\n",
    "    ('rf', RandomForestRegressor(max_depth = 10, n_estimators = 100)),\n",
    "    ('dt', DecisionTreeRegressor(max_depth = 15)),\n",
    "    ('forecast', forecasting_regressor),\n",
    "    ('knn', KNeighborsRegressor(n_neighbors=7)),\n",
    "    ('xgb', XGBRegressor(learning_rate = 0.1, max_depth = 3)),\n",
    "     ('svm', SVR(kernel='rbf'))\n",
    "]"
   ]
  },
  {
   "cell_type": "code",
   "execution_count": 96,
   "id": "2607cafc-cb47-4b35-9c56-522ca2b75fbd",
   "metadata": {
    "tags": []
   },
   "outputs": [],
   "source": [
    "# Initialize base models\n",
    "base_models = [\n",
    "    ('linear', LinearRegression()),\n",
    "    ('rf', RandomForestRegressor()),\n",
    "    ('dt', DecisionTreeRegressor()),\n",
    "    ('forecast', forecasting_regressor),\n",
    "       ('knn', KNeighborsRegressor(n_neighbors=2)),\n",
    "    ('svm', SVR(kernel='rbf')),\n",
    "    ('xgb', XGBRegressor()),\n",
    " \n",
    "]"
   ]
  },
  {
   "cell_type": "code",
   "execution_count": 97,
   "id": "f1283e0c-cfce-4b35-83f0-4786e690af78",
   "metadata": {
    "tags": []
   },
   "outputs": [],
   "source": [
    "# Initialize stacking regressor using the base models and a meta-regressor\n",
    "stacked_model = StackingRegressor(estimators=base_models, final_estimator=LinearRegression())"
   ]
  },
  {
   "cell_type": "code",
   "execution_count": 98,
   "id": "c28ca7cc-4de2-4840-a1f3-6d2edc30cbaf",
   "metadata": {
    "tags": []
   },
   "outputs": [
    {
     "data": {
      "text/html": [
       "<style>#sk-container-id-15 {color: black;}#sk-container-id-15 pre{padding: 0;}#sk-container-id-15 div.sk-toggleable {background-color: white;}#sk-container-id-15 label.sk-toggleable__label {cursor: pointer;display: block;width: 100%;margin-bottom: 0;padding: 0.3em;box-sizing: border-box;text-align: center;}#sk-container-id-15 label.sk-toggleable__label-arrow:before {content: \"▸\";float: left;margin-right: 0.25em;color: #696969;}#sk-container-id-15 label.sk-toggleable__label-arrow:hover:before {color: black;}#sk-container-id-15 div.sk-estimator:hover label.sk-toggleable__label-arrow:before {color: black;}#sk-container-id-15 div.sk-toggleable__content {max-height: 0;max-width: 0;overflow: hidden;text-align: left;background-color: #f0f8ff;}#sk-container-id-15 div.sk-toggleable__content pre {margin: 0.2em;color: black;border-radius: 0.25em;background-color: #f0f8ff;}#sk-container-id-15 input.sk-toggleable__control:checked~div.sk-toggleable__content {max-height: 200px;max-width: 100%;overflow: auto;}#sk-container-id-15 input.sk-toggleable__control:checked~label.sk-toggleable__label-arrow:before {content: \"▾\";}#sk-container-id-15 div.sk-estimator input.sk-toggleable__control:checked~label.sk-toggleable__label {background-color: #d4ebff;}#sk-container-id-15 div.sk-label input.sk-toggleable__control:checked~label.sk-toggleable__label {background-color: #d4ebff;}#sk-container-id-15 input.sk-hidden--visually {border: 0;clip: rect(1px 1px 1px 1px);clip: rect(1px, 1px, 1px, 1px);height: 1px;margin: -1px;overflow: hidden;padding: 0;position: absolute;width: 1px;}#sk-container-id-15 div.sk-estimator {font-family: monospace;background-color: #f0f8ff;border: 1px dotted black;border-radius: 0.25em;box-sizing: border-box;margin-bottom: 0.5em;}#sk-container-id-15 div.sk-estimator:hover {background-color: #d4ebff;}#sk-container-id-15 div.sk-parallel-item::after {content: \"\";width: 100%;border-bottom: 1px solid gray;flex-grow: 1;}#sk-container-id-15 div.sk-label:hover label.sk-toggleable__label {background-color: #d4ebff;}#sk-container-id-15 div.sk-serial::before {content: \"\";position: absolute;border-left: 1px solid gray;box-sizing: border-box;top: 0;bottom: 0;left: 50%;z-index: 0;}#sk-container-id-15 div.sk-serial {display: flex;flex-direction: column;align-items: center;background-color: white;padding-right: 0.2em;padding-left: 0.2em;position: relative;}#sk-container-id-15 div.sk-item {position: relative;z-index: 1;}#sk-container-id-15 div.sk-parallel {display: flex;align-items: stretch;justify-content: center;background-color: white;position: relative;}#sk-container-id-15 div.sk-item::before, #sk-container-id-15 div.sk-parallel-item::before {content: \"\";position: absolute;border-left: 1px solid gray;box-sizing: border-box;top: 0;bottom: 0;left: 50%;z-index: -1;}#sk-container-id-15 div.sk-parallel-item {display: flex;flex-direction: column;z-index: 1;position: relative;background-color: white;}#sk-container-id-15 div.sk-parallel-item:first-child::after {align-self: flex-end;width: 50%;}#sk-container-id-15 div.sk-parallel-item:last-child::after {align-self: flex-start;width: 50%;}#sk-container-id-15 div.sk-parallel-item:only-child::after {width: 0;}#sk-container-id-15 div.sk-dashed-wrapped {border: 1px dashed gray;margin: 0 0.4em 0.5em 0.4em;box-sizing: border-box;padding-bottom: 0.4em;background-color: white;}#sk-container-id-15 div.sk-label label {font-family: monospace;font-weight: bold;display: inline-block;line-height: 1.2em;}#sk-container-id-15 div.sk-label-container {text-align: center;}#sk-container-id-15 div.sk-container {/* jupyter's `normalize.less` sets `[hidden] { display: none; }` but bootstrap.min.css set `[hidden] { display: none !important; }` so we also need the `!important` here to be able to override the default hidden behavior on the sphinx rendered scikit-learn.org. See: https://github.com/scikit-learn/scikit-learn/issues/21755 */display: inline-block !important;position: relative;}#sk-container-id-15 div.sk-text-repr-fallback {display: none;}</style><div id=\"sk-container-id-15\" class=\"sk-top-container\"><div class=\"sk-text-repr-fallback\"><pre>StackingRegressor(estimators=[(&#x27;linear&#x27;, LinearRegression()),\n",
       "                              (&#x27;rf&#x27;, RandomForestRegressor()),\n",
       "                              (&#x27;dt&#x27;, DecisionTreeRegressor()),\n",
       "                              (&#x27;forecast&#x27;, LinearRegression()),\n",
       "                              (&#x27;knn&#x27;, KNeighborsRegressor(n_neighbors=2)),\n",
       "                              (&#x27;svm&#x27;, SVR()),\n",
       "                              (&#x27;xgb&#x27;,\n",
       "                               XGBRegressor(base_score=None, booster=None,\n",
       "                                            callbacks=None,\n",
       "                                            colsample_bylevel=None,\n",
       "                                            colsample_bynode=None,\n",
       "                                            colsample_bytree=None, device=N...\n",
       "                                            interaction_constraints=None,\n",
       "                                            learning_rate=None, max_bin=None,\n",
       "                                            max_cat_threshold=None,\n",
       "                                            max_cat_to_onehot=None,\n",
       "                                            max_delta_step=None, max_depth=None,\n",
       "                                            max_leaves=None,\n",
       "                                            min_child_weight=None, missing=nan,\n",
       "                                            monotone_constraints=None,\n",
       "                                            multi_strategy=None,\n",
       "                                            n_estimators=None, n_jobs=None,\n",
       "                                            num_parallel_tree=None,\n",
       "                                            random_state=None, ...))],\n",
       "                  final_estimator=LinearRegression())</pre><b>In a Jupyter environment, please rerun this cell to show the HTML representation or trust the notebook. <br />On GitHub, the HTML representation is unable to render, please try loading this page with nbviewer.org.</b></div><div class=\"sk-container\" hidden><div class=\"sk-item sk-dashed-wrapped\"><div class=\"sk-label-container\"><div class=\"sk-label sk-toggleable\"><input class=\"sk-toggleable__control sk-hidden--visually\" id=\"sk-estimator-id-126\" type=\"checkbox\" ><label for=\"sk-estimator-id-126\" class=\"sk-toggleable__label sk-toggleable__label-arrow\">StackingRegressor</label><div class=\"sk-toggleable__content\"><pre>StackingRegressor(estimators=[(&#x27;linear&#x27;, LinearRegression()),\n",
       "                              (&#x27;rf&#x27;, RandomForestRegressor()),\n",
       "                              (&#x27;dt&#x27;, DecisionTreeRegressor()),\n",
       "                              (&#x27;forecast&#x27;, LinearRegression()),\n",
       "                              (&#x27;knn&#x27;, KNeighborsRegressor(n_neighbors=2)),\n",
       "                              (&#x27;svm&#x27;, SVR()),\n",
       "                              (&#x27;xgb&#x27;,\n",
       "                               XGBRegressor(base_score=None, booster=None,\n",
       "                                            callbacks=None,\n",
       "                                            colsample_bylevel=None,\n",
       "                                            colsample_bynode=None,\n",
       "                                            colsample_bytree=None, device=N...\n",
       "                                            interaction_constraints=None,\n",
       "                                            learning_rate=None, max_bin=None,\n",
       "                                            max_cat_threshold=None,\n",
       "                                            max_cat_to_onehot=None,\n",
       "                                            max_delta_step=None, max_depth=None,\n",
       "                                            max_leaves=None,\n",
       "                                            min_child_weight=None, missing=nan,\n",
       "                                            monotone_constraints=None,\n",
       "                                            multi_strategy=None,\n",
       "                                            n_estimators=None, n_jobs=None,\n",
       "                                            num_parallel_tree=None,\n",
       "                                            random_state=None, ...))],\n",
       "                  final_estimator=LinearRegression())</pre></div></div></div><div class=\"sk-serial\"><div class=\"sk-item\"><div class=\"sk-parallel\"><div class=\"sk-parallel-item\"><div class=\"sk-item\"><div class=\"sk-label-container\"><div class=\"sk-label sk-toggleable\"><label>linear</label></div></div><div class=\"sk-serial\"><div class=\"sk-item\"><div class=\"sk-estimator sk-toggleable\"><input class=\"sk-toggleable__control sk-hidden--visually\" id=\"sk-estimator-id-127\" type=\"checkbox\" ><label for=\"sk-estimator-id-127\" class=\"sk-toggleable__label sk-toggleable__label-arrow\">LinearRegression</label><div class=\"sk-toggleable__content\"><pre>LinearRegression()</pre></div></div></div></div></div></div><div class=\"sk-parallel-item\"><div class=\"sk-item\"><div class=\"sk-label-container\"><div class=\"sk-label sk-toggleable\"><label>rf</label></div></div><div class=\"sk-serial\"><div class=\"sk-item\"><div class=\"sk-estimator sk-toggleable\"><input class=\"sk-toggleable__control sk-hidden--visually\" id=\"sk-estimator-id-128\" type=\"checkbox\" ><label for=\"sk-estimator-id-128\" class=\"sk-toggleable__label sk-toggleable__label-arrow\">RandomForestRegressor</label><div class=\"sk-toggleable__content\"><pre>RandomForestRegressor()</pre></div></div></div></div></div></div><div class=\"sk-parallel-item\"><div class=\"sk-item\"><div class=\"sk-label-container\"><div class=\"sk-label sk-toggleable\"><label>dt</label></div></div><div class=\"sk-serial\"><div class=\"sk-item\"><div class=\"sk-estimator sk-toggleable\"><input class=\"sk-toggleable__control sk-hidden--visually\" id=\"sk-estimator-id-129\" type=\"checkbox\" ><label for=\"sk-estimator-id-129\" class=\"sk-toggleable__label sk-toggleable__label-arrow\">DecisionTreeRegressor</label><div class=\"sk-toggleable__content\"><pre>DecisionTreeRegressor()</pre></div></div></div></div></div></div><div class=\"sk-parallel-item\"><div class=\"sk-item\"><div class=\"sk-label-container\"><div class=\"sk-label sk-toggleable\"><label>forecast</label></div></div><div class=\"sk-serial\"><div class=\"sk-item\"><div class=\"sk-estimator sk-toggleable\"><input class=\"sk-toggleable__control sk-hidden--visually\" id=\"sk-estimator-id-130\" type=\"checkbox\" ><label for=\"sk-estimator-id-130\" class=\"sk-toggleable__label sk-toggleable__label-arrow\">LinearRegression</label><div class=\"sk-toggleable__content\"><pre>LinearRegression()</pre></div></div></div></div></div></div><div class=\"sk-parallel-item\"><div class=\"sk-item\"><div class=\"sk-label-container\"><div class=\"sk-label sk-toggleable\"><label>knn</label></div></div><div class=\"sk-serial\"><div class=\"sk-item\"><div class=\"sk-estimator sk-toggleable\"><input class=\"sk-toggleable__control sk-hidden--visually\" id=\"sk-estimator-id-131\" type=\"checkbox\" ><label for=\"sk-estimator-id-131\" class=\"sk-toggleable__label sk-toggleable__label-arrow\">KNeighborsRegressor</label><div class=\"sk-toggleable__content\"><pre>KNeighborsRegressor(n_neighbors=2)</pre></div></div></div></div></div></div><div class=\"sk-parallel-item\"><div class=\"sk-item\"><div class=\"sk-label-container\"><div class=\"sk-label sk-toggleable\"><label>svm</label></div></div><div class=\"sk-serial\"><div class=\"sk-item\"><div class=\"sk-estimator sk-toggleable\"><input class=\"sk-toggleable__control sk-hidden--visually\" id=\"sk-estimator-id-132\" type=\"checkbox\" ><label for=\"sk-estimator-id-132\" class=\"sk-toggleable__label sk-toggleable__label-arrow\">SVR</label><div class=\"sk-toggleable__content\"><pre>SVR()</pre></div></div></div></div></div></div><div class=\"sk-parallel-item\"><div class=\"sk-item\"><div class=\"sk-label-container\"><div class=\"sk-label sk-toggleable\"><label>xgb</label></div></div><div class=\"sk-serial\"><div class=\"sk-item\"><div class=\"sk-estimator sk-toggleable\"><input class=\"sk-toggleable__control sk-hidden--visually\" id=\"sk-estimator-id-133\" type=\"checkbox\" ><label for=\"sk-estimator-id-133\" class=\"sk-toggleable__label sk-toggleable__label-arrow\">XGBRegressor</label><div class=\"sk-toggleable__content\"><pre>XGBRegressor(base_score=None, booster=None, callbacks=None,\n",
       "             colsample_bylevel=None, colsample_bynode=None,\n",
       "             colsample_bytree=None, device=None, early_stopping_rounds=None,\n",
       "             enable_categorical=False, eval_metric=None, feature_types=None,\n",
       "             gamma=None, grow_policy=None, importance_type=None,\n",
       "             interaction_constraints=None, learning_rate=None, max_bin=None,\n",
       "             max_cat_threshold=None, max_cat_to_onehot=None,\n",
       "             max_delta_step=None, max_depth=None, max_leaves=None,\n",
       "             min_child_weight=None, missing=nan, monotone_constraints=None,\n",
       "             multi_strategy=None, n_estimators=None, n_jobs=None,\n",
       "             num_parallel_tree=None, random_state=None, ...)</pre></div></div></div></div></div></div></div></div><div class=\"sk-item\"><div class=\"sk-parallel\"><div class=\"sk-parallel-item\"><div class=\"sk-item\"><div class=\"sk-label-container\"><div class=\"sk-label sk-toggleable\"><label>final_estimator</label></div></div><div class=\"sk-serial\"><div class=\"sk-item\"><div class=\"sk-estimator sk-toggleable\"><input class=\"sk-toggleable__control sk-hidden--visually\" id=\"sk-estimator-id-134\" type=\"checkbox\" ><label for=\"sk-estimator-id-134\" class=\"sk-toggleable__label sk-toggleable__label-arrow\">LinearRegression</label><div class=\"sk-toggleable__content\"><pre>LinearRegression()</pre></div></div></div></div></div></div></div></div></div></div></div></div>"
      ],
      "text/plain": [
       "StackingRegressor(estimators=[('linear', LinearRegression()),\n",
       "                              ('rf', RandomForestRegressor()),\n",
       "                              ('dt', DecisionTreeRegressor()),\n",
       "                              ('forecast', LinearRegression()),\n",
       "                              ('knn', KNeighborsRegressor(n_neighbors=2)),\n",
       "                              ('svm', SVR()),\n",
       "                              ('xgb',\n",
       "                               XGBRegressor(base_score=None, booster=None,\n",
       "                                            callbacks=None,\n",
       "                                            colsample_bylevel=None,\n",
       "                                            colsample_bynode=None,\n",
       "                                            colsample_bytree=None, device=N...\n",
       "                                            interaction_constraints=None,\n",
       "                                            learning_rate=None, max_bin=None,\n",
       "                                            max_cat_threshold=None,\n",
       "                                            max_cat_to_onehot=None,\n",
       "                                            max_delta_step=None, max_depth=None,\n",
       "                                            max_leaves=None,\n",
       "                                            min_child_weight=None, missing=nan,\n",
       "                                            monotone_constraints=None,\n",
       "                                            multi_strategy=None,\n",
       "                                            n_estimators=None, n_jobs=None,\n",
       "                                            num_parallel_tree=None,\n",
       "                                            random_state=None, ...))],\n",
       "                  final_estimator=LinearRegression())"
      ]
     },
     "execution_count": 98,
     "metadata": {},
     "output_type": "execute_result"
    }
   ],
   "source": [
    "# Train the stacking model\n",
    "stacked_model.fit(X_train, y_train)"
   ]
  },
  {
   "cell_type": "code",
   "execution_count": 99,
   "id": "612f84e2-0510-4d45-8871-62a8a55e2f92",
   "metadata": {
    "tags": []
   },
   "outputs": [],
   "source": [
    "# Make predictions on the test set\n",
    "predictions = stacked_model.predict(X_train)"
   ]
  },
  {
   "cell_type": "code",
   "execution_count": 100,
   "id": "ed570db7-a851-4852-818a-ef5248aca507",
   "metadata": {
    "tags": []
   },
   "outputs": [
    {
     "name": "stdout",
     "output_type": "stream",
     "text": [
      "Mean Squared Error: 8909.493971308273\n"
     ]
    }
   ],
   "source": [
    "# Evaluate the model (for example, using Mean Squared Error)\n",
    "mse = mean_squared_error(y_train, predictions)\n",
    "print(f\"Mean Squared Error: {mse}\")"
   ]
  },
  {
   "cell_type": "code",
   "execution_count": 101,
   "id": "bccd7e8a-904d-480b-856d-a3f6c4783799",
   "metadata": {
    "tags": []
   },
   "outputs": [
    {
     "data": {
      "text/plain": [
       "0.9221063698982636"
      ]
     },
     "execution_count": 101,
     "metadata": {},
     "output_type": "execute_result"
    }
   ],
   "source": [
    "stacked_model.score(X_train, y_train)"
   ]
  },
  {
   "cell_type": "code",
   "execution_count": 142,
   "id": "78606edc-c166-45ec-8d7b-e7d5897befff",
   "metadata": {},
   "outputs": [],
   "source": [
    "import pickle\n",
    "\n",
    "# Train the stacking model (as before)\n",
    "stacked_model.fit(X_train, y_train)\n",
    "\n",
    "# Save the trained model to a file using pickle\n",
    "with open('stacked_model.pkl', 'wb') as file:\n",
    "    pickle.dump(stacked_model, file)"
   ]
  },
  {
   "cell_type": "code",
   "execution_count": 143,
   "id": "ce6cf491-9e06-46fe-a2f6-2460aaf30a27",
   "metadata": {},
   "outputs": [],
   "source": [
    "# Load the saved model using pickle\n",
    "with open('stacked_model.pkl', 'rb') as file:\n",
    "    loaded_model = pickle.load(file)\n",
    "\n",
    "# Now, 'loaded_model' contains your trained StackingRegressor model\n",
    "# You can use it for predictions or further analysis"
   ]
  },
  {
   "cell_type": "code",
   "execution_count": 103,
   "id": "99f2daad-520c-4024-bbf3-1577b2735e65",
   "metadata": {
    "tags": []
   },
   "outputs": [
    {
     "ename": "SyntaxError",
     "evalue": "f-string: unmatched '[' (3752184846.py, line 46)",
     "output_type": "error",
     "traceback": [
      "\u001b[1;36m  Cell \u001b[1;32mIn[103], line 46\u001b[1;36m\u001b[0m\n\u001b[1;33m    print(f'Original Value: {[original_value['Number of Enrollees'].values[0]]}')\u001b[0m\n\u001b[1;37m                                              ^\u001b[0m\n\u001b[1;31mSyntaxError\u001b[0m\u001b[1;31m:\u001b[0m f-string: unmatched '['\n"
     ]
    }
   ],
   "source": [
    "import matplotlib.pyplot as plt\n",
    "\n",
    "# Set the plot styles\n",
    "plt.style.use('default')\n",
    "plt.style.use('ggplot')\n",
    "\n",
    "# Fit the stacked model with your training data (assuming you have X_train and y_train)\n",
    "stacked_model.fit(X_train, y_train)\n",
    "\n",
    "while True:\n",
    "    # Get user input for prediction\n",
    "    sy_input = float(input(\"Enter the year (e.g., 2026.2027): \"))\n",
    "    id_input = float(input(\"Enter Program ID: \"))\n",
    "\n",
    "    # Prepare the input data for prediction\n",
    "    user_data = [[sy_input, id_input]]\n",
    "    predictions = stacked_model.predict(user_data)\n",
    "\n",
    "    # Calculate the score of the stacked model\n",
    "    model_score = stacked_model.score(X_train, y_train) * 100   # Replace X_test and y_test with your test data\n",
    "\n",
    "    # Create a new figure for each prediction\n",
    "    plt.figure(figsize=(10, 6))\n",
    "\n",
    "    # Filter data for the inputted Program ID\n",
    "    filtered_data = data[data['Program ID'] == id_input]\n",
    "\n",
    "    # Plot the original data for the specific Program ID in a 2D scatter plot\n",
    "    plt.scatter(filtered_data['School Year'], filtered_data['Number of Enrollees'], color='black', label='Original Data')\n",
    "\n",
    "    # Check if sy_input exists in the filtered data\n",
    "    if sy_input in filtered_data['School Year'].values:\n",
    "        # Add the original value as a red dot\n",
    "        original_value = filtered_data[filtered_data['School Year'] == sy_input]\n",
    "        plt.scatter(sy_input, original_value['Number of Enrollees'].values[0], color='red', label='Original Value', marker='o', s=100)\n",
    "        plt.text(sy_input, original_value['Number of Enrollees'].values[0], f'Original: {original_value[\"Number of Enrollees\"].values[0]}', ha='right', va='bottom')\n",
    "\n",
    "        # Add a line connecting the original data and the predicted value\n",
    "        plt.plot([sy_input, sy_input], [original_value['Number of Enrollees'].values[0], predictions[0]], color='blue', linestyle='--', label='Prediction Line')\n",
    "\n",
    "    # Add the predicted value as a green dot\n",
    "    plt.scatter(sy_input, predictions[0], color='green', label='Predicted Value', marker='o', s=100)\n",
    "    \n",
    "    # Display the predicted value outside the plot\n",
    "    print(f'Predicted Value: {predictions[0]}')\n",
    "    print(f'Original Value: {[original_value['Number of Enrollees'].values[0]]}')\n",
    "\n",
    "    plt.title('Enrollees Prediction')\n",
    "    plt.xlabel('School Year')\n",
    "    plt.ylabel('Number of Enrollees')\n",
    "\n",
    "    # Display the stacked model score on the plot\n",
    "    plt.text(0.5, 0.95, f'Model Score: {model_score:.3f}', ha='center', va='center', transform=plt.gca().transAxes, bbox=dict(facecolor='white', alpha=0.5))\n",
    "\n",
    "    # Add a legend to distinguish the original data, predicted value, and prediction line\n",
    "    plt.legend()\n",
    "\n",
    "    # Show the 2D plot\n",
    "    plt.grid(True)\n",
    "    plt.tight_layout()\n",
    "    plt.show()\n",
    "\n",
    "    # Ask the user if they want to make another prediction\n",
    "    another_prediction = input(\"Do you want to make another prediction? (yes/no): \")\n",
    "    if another_prediction.lower() != 'yes':\n",
    "        break\n"
   ]
  },
  {
   "cell_type": "code",
   "execution_count": 15,
   "id": "b0f248c5-86d6-414b-8ab5-4f137327af37",
   "metadata": {},
   "outputs": [
    {
     "name": "stdout",
     "output_type": "stream",
     "text": [
      "Best parameters for rf: {'max_depth': 10, 'n_estimators': 100}\n",
      "Best parameters for dt: {'max_depth': 15}\n",
      "Best parameters for xgb: {'learning_rate': 0.1, 'max_depth': 3}\n",
      "Best parameters for knn: {'n_neighbors': 7}\n"
     ]
    }
   ],
   "source": [
    "from sklearn.model_selection import GridSearchCV\n",
    "\n",
    "# Define hyperparameters for each model\n",
    "param_grid = {\n",
    "    'rf': {'n_estimators': [100, 300, 500],\n",
    "           'max_depth': [None, 10, 20]},\n",
    "    'dt': {'max_depth': [None, 5, 10, 15]},\n",
    "    'forecast': {},  # Add hyperparameters for forecasting_regressor if any\n",
    "    'knn': {'n_neighbors': [5, 7, 9, 11]},\n",
    "    'xgb': {'max_depth': [3, 5, 7],\n",
    "            'learning_rate': [0.1, 0.01, 0.001]}\n",
    "}\n",
    "\n",
    "# Perform GridSearchCV for each model\n",
    "best_params = {}\n",
    "for model_name, model in base_models:\n",
    "    if model_name in param_grid:\n",
    "        params = param_grid[model_name]\n",
    "        if params:\n",
    "            grid_search = GridSearchCV(model, params, cv=5, scoring='neg_mean_squared_error')\n",
    "            grid_search.fit(X_train, y_train)  # Replace X_train, y_train with your data\n",
    "            best_params[model_name] = grid_search.best_params_\n",
    "            # Update the model with the best parameters\n",
    "            model.set_params(**grid_search.best_params_)\n",
    "\n",
    "# Print best parameters found for each model\n",
    "for model_name, params in best_params.items():\n",
    "    print(f\"Best parameters for {model_name}: {params}\")"
   ]
  },
  {
   "cell_type": "code",
   "execution_count": null,
   "id": "7418f799-0abd-4054-8acd-25f35b5cd34a",
   "metadata": {},
   "outputs": [],
   "source": []
  }
 ],
 "metadata": {
  "kernelspec": {
   "display_name": "Python 3 (ipykernel)",
   "language": "python",
   "name": "python3"
  },
  "language_info": {
   "codemirror_mode": {
    "name": "ipython",
    "version": 3
   },
   "file_extension": ".py",
   "mimetype": "text/x-python",
   "name": "python",
   "nbconvert_exporter": "python",
   "pygments_lexer": "ipython3",
   "version": "3.11.4"
  }
 },
 "nbformat": 4,
 "nbformat_minor": 5
}
